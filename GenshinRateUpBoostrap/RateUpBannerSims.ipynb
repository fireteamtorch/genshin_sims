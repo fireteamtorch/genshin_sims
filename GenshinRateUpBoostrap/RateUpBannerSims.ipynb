{
 "cells": [
  {
   "cell_type": "code",
   "execution_count": 1,
   "metadata": {},
   "outputs": [],
   "source": [
    "import random\n",
    "import numpy as np\n",
    "import matplotlib.pyplot as plt"
   ]
  },
  {
   "cell_type": "code",
   "execution_count": 2,
   "metadata": {},
   "outputs": [],
   "source": [
    "draw_nums_from_whales = [77,78,37,67,36,34,46,68,55,82,75,52,78,32,79,2,6,9,78,89,12,58,86,54,62,56,77,76,3,14,80,77,9,44,35,45,38,76,77,70,52,58,78,70,23,47,81,50,67,79,76,77,13,76,78,78,76,78,30,80,62,85,79,79,83,67,42,23,76,76,62,82,81,60,75,54,68,75,5,76,80,71,77,38,78,76,74,80,77,62,42,51,77,77,40,78,42,78,16,19,52,75,80,54,78,79,75,68,51,80,39,76,68,79,79,14,75,47,74,69,3,66,77,74,14,47,78,77,78,1,11,75,7,76,77,80,75,32,70,82,22,77,70,76]"
   ]
  },
  {
   "cell_type": "code",
   "execution_count": 3,
   "metadata": {},
   "outputs": [],
   "source": [
    "def SimNumDrawsToFeaturedChar_FromData(data, num_wanted_featured_chars = 1):\n",
    "    num_draws = 0\n",
    "    for i in range(num_wanted_featured_chars):\n",
    "        if random.uniform(0, 1) <= 0.5:\n",
    "            num_draws += random.sample(data, 1)[0]\n",
    "        else:\n",
    "            num_draws += random.sample(data, 1)[0] + random.sample(data, 1)[0]\n",
    "    return num_draws"
   ]
  },
  {
   "cell_type": "code",
   "execution_count": 4,
   "metadata": {},
   "outputs": [],
   "source": [
    "def SampleHistogramForFeaturedCharacterDraws_FromData(data, num_wanted_featured_chars, num_sims = 100000):\n",
    "    \n",
    "    hist_data = [0] * (num_wanted_featured_chars * 180)\n",
    "    num_dollars_per_pull = 2.469\n",
    "    \n",
    "    for curr_iter in range(0, num_sims):\n",
    "        curr_num_draws = SimNumDrawsToFeaturedChar_FromData(data, num_wanted_featured_chars)\n",
    "        hist_data[curr_num_draws - 1] += 1\n",
    "        \n",
    "    cumulative_data = np.cumsum(hist_data) / num_sims\n",
    "    \n",
    "    plt.plot(range(1, len(cumulative_data) + 1), cumulative_data)\n",
    "    plt.xlabel(\"Pulls\")\n",
    "    plt.ylabel(\"Percentile\")\n",
    "    plt.title(\"Num Pulls for \" + str(num_wanted_featured_chars) + \" Featured Char(s)\")"
   ]
  },
  {
   "cell_type": "code",
   "execution_count": 6,
   "metadata": {},
   "outputs": [
    {
     "data": {
      "image/png": "[encoded data removed]",
      "text/plain": [
       "<Figure size 432x288 with 1 Axes>"
      ]
     },
     "metadata": {
      "needs_background": "light"
     },
     "output_type": "display_data"
    }
   ],
   "source": [
    "SampleHistogramForFeaturedCharacterDraws_FromData(draw_nums_from_whales, 2)"
   ]
  },
  {
   "cell_type": "code",
   "execution_count": null,
   "metadata": {},
   "outputs": [],
   "source": []
  }
 ],
 "metadata": {
  "kernelspec": {
   "display_name": "Python 3",
   "language": "python",
   "name": "python3"
  },
  "language_info": {
   "codemirror_mode": {
    "name": "ipython",
    "version": 3
   },
   "file_extension": ".py",
   "mimetype": "text/x-python",
   "name": "python",
   "nbconvert_exporter": "python",
   "pygments_lexer": "ipython3",
   "version": "3.9.1"
  }
 },
 "nbformat": 4,
 "nbformat_minor": 4
}
